{
 "cells": [
  {
   "cell_type": "markdown",
   "id": "polar-advocacy",
   "metadata": {},
   "source": [
    "# Is Monday Effect an Urban Myth?\n",
    "\n",
    "**Authors**: Blythe King, Dinggyue Lie, Lucy (Yu) Xue\\*, Sungbin Youk\\\n",
    "**Date**: May 30th, 2021\\\n",
    "**Description**: As a final project for PSTAT 234 in University of California, Santa Barbara, the authors examined the presence of Monday effect. \\\n",
    "The authors equally contributed to the project. The names of the authors are in an alphabetical order. The corresponding author is indicated with *.\n",
    "----"
   ]
  },
  {
   "cell_type": "markdown",
   "id": "instant-nature",
   "metadata": {},
   "source": [
    "**Table of Contents**\n",
    "1. [Introduction](#introduction)\\\n",
    "    A. [Predicting the Stock Market](#predicting-the-stock-market)\\\n",
    "    B. [What is Monday Effect](#what-is-monday-effect)\\\n",
    "    C. [Our Objectives](#our-objectives)\n",
    "2. [Tackling Objective 1](#tackling-objective-1)\n",
    "3. [Tackling Objective 2](#tackling-objective-2)"
   ]
  },
  {
   "cell_type": "markdown",
   "id": "apart-wilson",
   "metadata": {},
   "source": [
    "## Introduction<a clas =\"anchor\" id = \"introduction\"></a>"
   ]
  },
  {
   "cell_type": "markdown",
   "id": "advanced-great",
   "metadata": {},
   "source": [
    "### Predicting the Stock Market <a clas =\"anchor\" id = \"predicting-the-stock-market\"></a>\n",
    "\n",
    "It will be great if you can predict the changes in the stock market. It will make you rich. Isn't that everyone's dream? Unfortunately, [efficient market hypothesis](https://www.investopedia.com/terms/e/efficientmarkethypothesis.asp) postulates that generating a stable parameter that reflects the share prices is impossible as the share prices reflect all information. \n",
    "\n",
    "It would be against the efficient market hypothesis if there is a predictable *pattern* in the stock market. In 1973, [Frank Cross](https://www.jstor.org/stable/pdf/4529641.pdf?refreqid=excelsior%3Adeff8e6e9e2c4c0b275b4b03a21b9c13) documented a non-random movement in stock prices. Here are the main findings from examining the Standard & Poor's Composite Stock Index from 1953 to 1970:\n",
    "- The index have risen on Friday more often than on any other days of the week, and have risen least often on Monday. \n",
    "- When the Friday index declined, the Monday index was more likely to also see a decline. When the Friday index advanced, the Monday index was likely to remain static (neither advancing nor declining). "
   ]
  },
  {
   "cell_type": "markdown",
   "id": "vocational-matrix",
   "metadata": {},
   "source": [
    "### What is Monday Effect? <a clas =\"anchor\" id = \"what-is-monday-effect\"></a>\n",
    "\n",
    "Over the years, Frank Cross's findings were coined into what is now known as the **Monday Effect**. There are two different definitions of the monday effect (each corresponding to the two findings that are mentioned above). \n",
    "\n",
    "- Monday effect states that the returns on Monday are less than the other days of the week, and are often negative on average ([Pettengill, 2003](https://www.jstor.org/stable/pdf/23292837.pdf?refreqid=excelsior%3A6da162ff7d91746d901fc154171e6015)).\n",
    "- Monday effect states that the returns on the stock market on Monday, especially the first few hours, will follow the pattern of the previous Friday, espeically the last few hours ([Investopedia](https://www.investopedia.com/terms/m/mondayeffect.asp)). \n",
    "\n",
    "You may wonder what may be the reason behind this abnormality in the stock prices. As the existence of Monday effect is controversial (thus, the reason for our project), there isn't a clear answer. Some state that the stock returns are low on Monday because companies may hold on to bad news until the last day of stock trading (Friday), which in turn makes the next stock trading day (Monday) to take the hit. "
   ]
  },
  {
   "cell_type": "markdown",
   "id": "aggregate-conversion",
   "metadata": {},
   "source": [
    "### Our Objectives <a clas =\"anchor\" id = \"our-objectives\"></a>\n",
    "\n",
    "The objective of our project is in three-folds:\n",
    "1) The first objective is to examine the first definitoin of Monday effect (i.e. the stock returns of Monday is less than the other days of the week). We will benchmark [Arman and Lestari's study](https://www.atlantis-press.com/proceedings/icame-18/125917114). They examined Monday effect in the Indonesian Stock Exchange. We will examine if Monday effect is also present in the U.S. stock market.\\\n",
    "2) The second objective of this study is to examine the second definition of Monday effect. We will examine if Monday's returns are correlated to that of Friday.\\\n",
    "3) We will take a step further and apply time series analysis to see \"abnormailities\" is stock returns."
   ]
  },
  {
   "cell_type": "markdown",
   "id": "fantastic-pledge",
   "metadata": {},
   "source": [
    "----\n",
    "## Tackling Objective 1 <a clas =\"anchor\" id = \"tackling-objective-1\"></a>\n",
    "\n",
    "In our analysis, the stock return data are obtained from yfinance package in python. We will create two sets of data. The first data will include the stock returns of S&P 500 from 2014 to 2017. This data set has the identical timeframe to that of Arman and Lestari's study. The second dataset includes the latest S&P 500 constituents. "
   ]
  },
  {
   "cell_type": "markdown",
   "id": "virgin-bargain",
   "metadata": {},
   "source": [
    "### A Short Summary of Arman and Lestari's Study\n",
    "\n",
    "Arman and Lestari examined the Monday effect by examining the banking sectors on the Indonesian stock market from 2014 to 2017. A one-sample t-test was conducted for each of the weekdays. The results indicated that the average stock return on Monday is -0.0006, which was not statistically significant. "
   ]
  },
  {
   "cell_type": "markdown",
   "id": "female-monster",
   "metadata": {},
   "source": [
    "### Importing Libraries and Packages"
   ]
  },
  {
   "cell_type": "code",
   "execution_count": null,
   "id": "sitting-shame",
   "metadata": {},
   "outputs": [],
   "source": [
    "import yfinance as yf\n",
    "import numpy as np\n",
    "import pandas as pd\n",
    "import requests\n",
    "import datetime\n",
    "from datetime import date\n",
    "import calendar\n",
    "import io\n",
    "from scipy import stats"
   ]
  },
  {
   "cell_type": "markdown",
   "id": "equivalent-working",
   "metadata": {},
   "source": [
    "### Importing the list of ticker for S&P 500 between 2014 to 2017\n",
    "\n",
    "The first step is to retrieve the companies that constituted S&P 500 in the past. "
   ]
  },
  {
   "cell_type": "code",
   "execution_count": null,
   "id": "floppy-sharing",
   "metadata": {},
   "outputs": [],
   "source": [
    "# Downloading the csv file from a Github page which has a list of companies and when they were added or removed from S&P 500\n",
    "url = \"https://raw.githubusercontent.com/leosmigel/analyzingalpha/master/sp500-historical-components-and-changes/sp500_history.csv\"\n",
    "download = requests.get(url).content\n",
    "\n",
    "# Reading the downloaded content and turning it into a pandas dataframe\n",
    "df = pd.read_csv(io.StringIO(download.decode('utf-8')))\n",
    "\n",
    "#Turning the date column into a datetime object\n",
    "df[\"date\"] = pd.to_datetime(df[\"date\"])\n",
    "\n",
    "# Printing out the first 5 rows of the dataframe\n",
    "df.head()"
   ]
  },
  {
   "cell_type": "code",
   "execution_count": null,
   "id": "premier-indonesia",
   "metadata": {},
   "outputs": [],
   "source": [
    "# Function to retrieve the tickers in S&P 500 for a given timeframe\n",
    "def past_SP_ticker(end_date):\n",
    "    ticker_list = []\n",
    "    global df\n",
    "    for index,row in df.iterrows():\n",
    "        if row['date'] > end_date:\n",
    "            break\n",
    "        else:\n",
    "            if row['variable'] == \"added_ticker\":\n",
    "                ticker_list.append(row['value'])\n",
    "            elif row['value'] in ticker_list:\n",
    "                ticker_list.remove(row['value'])\n",
    "    return ticker_list"
   ]
  },
  {
   "cell_type": "code",
   "execution_count": null,
   "id": "collected-boxing",
   "metadata": {},
   "outputs": [],
   "source": [
    "# Using the past_SP_ticker() function to retrieve the tickers of S&P 500 for 2017. \n",
    "end_date = '20171231'\n",
    "date_time_obj = datetime.datetime.strptime(end_date,'%Y%m%d')\n",
    "SP_ticker_2017 = past_SP_ticker(date_time_obj)"
   ]
  },
  {
   "cell_type": "markdown",
   "id": "basic-commissioner",
   "metadata": {},
   "source": [
    "### Creating a dataframe of stock returns for the identified S&P 500 constituents of 2017\n",
    "The next step is to obtain the daily stock returns of the selected companies. This requires several steps: obtain the stock data of the S&P 500 constituents of 2017, delete the missing values, calculate the log retruns, create a multilevel index (i.e., hierarchical index) with the days of the week"
   ]
  },
  {
   "cell_type": "markdown",
   "id": "studied-performance",
   "metadata": {},
   "source": [
    "#### Obtaining the stock data of S&P 500 constituents of 2017"
   ]
  },
  {
   "cell_type": "code",
   "execution_count": null,
   "id": "adult-sigma",
   "metadata": {},
   "outputs": [],
   "source": [
    "# Using the ticker to obtain stock prices from yfinance\n",
    "rawdata = yf.download(SP_ticker_2017, start=\"2013-12-31\", end=\"2017-12-31\")\n",
    "rawdata.columns = rawdata.columns.set_names(['Value', 'Symbol'])\n",
    "rawdata.head()"
   ]
  },
  {
   "cell_type": "markdown",
   "id": "dense-turkish",
   "metadata": {},
   "source": [
    "#### Deleting the missing values"
   ]
  },
  {
   "cell_type": "code",
   "execution_count": null,
   "id": "spatial-whole",
   "metadata": {},
   "outputs": [],
   "source": [
    "# Inspecting the missing values in terms of rows\n",
    "rawdata['Close'].isna().sum(axis=0).describe()"
   ]
  },
  {
   "cell_type": "code",
   "execution_count": null,
   "id": "cooked-livestock",
   "metadata": {},
   "outputs": [],
   "source": [
    "# Making an list of tuples for tickers that has more than 3 missing values\n",
    "high_missing_ticker = rawdata['Close'].isna().sum(axis=0) > 3\n",
    "high_missing_ticker_list = high_missing_ticker[high_missing_ticker].index.tolist()\n",
    "high_missing_ticker_tuples = list()\n",
    "for i in ['Adj Close', 'Open', 'Close', 'High' ,'Low', 'Volume']:\n",
    "    high_missing_ticker_tuples += list(zip([i]*len(high_missing_ticker_list),high_missing_ticker_list))"
   ]
  },
  {
   "cell_type": "code",
   "execution_count": null,
   "id": "korean-walter",
   "metadata": {},
   "outputs": [],
   "source": [
    "# Excluding columns (i.e., tickers) that has more than 3 missing values \n",
    "rawdata = rawdata.drop(high_missing_ticker_tuples, axis = 1)"
   ]
  },
  {
   "cell_type": "code",
   "execution_count": null,
   "id": "modified-november",
   "metadata": {},
   "outputs": [],
   "source": [
    "# Finding out the dates that all tickers (columns) have missing values\n",
    "missingdate =rawdata.isna().sum(axis=1) > 0\n",
    "missingdate[missingdate].index"
   ]
  },
  {
   "cell_type": "code",
   "execution_count": null,
   "id": "4f15def1",
   "metadata": {},
   "outputs": [],
   "source": [
    "# delete the first row if it has missing values\n",
    "if rawdata.iloc[0].isna().sum().any():\n",
    "    rawdata = rawdata.iloc[1:]"
   ]
  },
  {
   "cell_type": "code",
   "execution_count": null,
   "id": "amended-lingerie",
   "metadata": {},
   "outputs": [],
   "source": [
    "# other rows with missing values are replaced with the values from the previous date\n",
    "rawdata = rawdata.fillna(method= 'ffill')"
   ]
  },
  {
   "cell_type": "code",
   "execution_count": null,
   "id": "modern-mexico",
   "metadata": {
    "scrolled": true
   },
   "outputs": [],
   "source": [
    "# Double check to see if all the missing values were either removed or replaced\n",
    "(rawdata.isna().sum(axis=None)>0).any()"
   ]
  },
  {
   "cell_type": "markdown",
   "id": "sudden-hearing",
   "metadata": {},
   "source": [
    "#### Calculating the log returns for closing price"
   ]
  },
  {
   "cell_type": "code",
   "execution_count": null,
   "id": "governing-essay",
   "metadata": {},
   "outputs": [],
   "source": [
    "# Getting the log returns from stock prices\n",
    "logret = np.log(rawdata['Close']).diff()\n",
    "logret.columns = pd.MultiIndex.from_product([['logreturn'], logret.columns])\n",
    "# Joining logret and rawdata \n",
    "rawdata = rawdata.join(logret)\n",
    "# row with the index of 2013-12-31 will be deleted as it is out of the scope of our data (2014~2017)\n",
    "rawdata = rawdata.drop(pd.Timestamp('2013-12-31'))"
   ]
  },
  {
   "cell_type": "code",
   "execution_count": null,
   "id": "heavy-boundary",
   "metadata": {},
   "outputs": [],
   "source": [
    "print(\"After preprocessing the data, we have idenified the log returns of {} companies, which were included in S&P500 in 2017. To recap, we are examining the stock returns from 2014 to 2017. Therefore, we will be examining the stock returns of {} days\".format(len(logret.columns), len(logret)))"
   ]
  },
  {
   "cell_type": "markdown",
   "id": "natural-champion",
   "metadata": {},
   "source": [
    "#### Creating a new columns for the industry information"
   ]
  },
  {
   "cell_type": "code",
   "execution_count": null,
   "id": "extreme-darwin",
   "metadata": {},
   "outputs": [],
   "source": [
    "# Obtaining the information about the tickers that are included in SP_ticker_2017\n",
    "industry_dic = dict()\n",
    "for item in SP_ticker_2017:\n",
    "    try:\n",
    "        industry_dic[item] = yf.Ticker(item).info['industry']\n",
    "    except:\n",
    "        industry_dic[item] = None"
   ]
  },
  {
   "cell_type": "code",
   "execution_count": null,
   "id": "according-interaction",
   "metadata": {},
   "outputs": [],
   "source": [
    "# Adding the industry to a level of the column\n",
    "rawdata.columns = pd.MultiIndex.from_tuples([(value, industry_dic[ticker], ticker) for value, ticker in rawdata.columns])\n",
    "rawdata.head()"
   ]
  },
  {
   "cell_type": "markdown",
   "id": "enclosed-toner",
   "metadata": {},
   "source": [
    "#### Creating a new columns for days of the week"
   ]
  },
  {
   "cell_type": "code",
   "execution_count": null,
   "id": "needed-following",
   "metadata": {},
   "outputs": [],
   "source": [
    "# The day of the week is added as a new index (creating a hierarchical index)\n",
    "rawdata['days'] = [calendar.day_name[day.weekday()] for day in rawdata.index]"
   ]
  },
  {
   "cell_type": "markdown",
   "id": "comfortable-macintosh",
   "metadata": {},
   "source": [
    "#### Exporting dataframe as csv"
   ]
  },
  {
   "cell_type": "code",
   "execution_count": null,
   "id": "opened-husband",
   "metadata": {},
   "outputs": [],
   "source": [
    "rawdata.to_csv('SP500_2014_2017_multilevel.csv')"
   ]
  },
  {
   "cell_type": "markdown",
   "id": "purple-auckland",
   "metadata": {},
   "source": [
    "#### Staking the Closing and Log returns into one dataframe\n",
    "\n",
    "For convenience in running some of the statistical analyses, the multilevel data of stock values are stacked into a dataframe. "
   ]
  },
  {
   "cell_type": "code",
   "execution_count": null,
   "id": "nervous-copyright",
   "metadata": {},
   "outputs": [],
   "source": [
    "# To easily stack the data, it is easier to delete the days and industry information.\n",
    "rawdata = rawdata.drop('days', axis =1)\n",
    "rawdata.columns = rawdata.columns.droplevel(1)"
   ]
  },
  {
   "cell_type": "code",
   "execution_count": null,
   "id": "organic-installation",
   "metadata": {},
   "outputs": [],
   "source": [
    "# The data is stacked \n",
    "stacked_rawdata = rawdata.stack()\n",
    "stacked_rawdata.reset_index(inplace=True)\n",
    "stacked_rawdata = stacked_rawdata.rename(columns = {'level_1':'Ticker'})\n",
    "\n",
    "# Days are added as a new column\n",
    "stacked_rawdata['days'] = [calendar.day_name[day.weekday()] for day in stacked_rawdata['Date']]\n",
    "\n",
    "# Industry information is added as a new column\n",
    "stacked_rawdata['Industry'] = [industry_dic[ticker] for ticker in stacked_rawdata['Ticker']]\n",
    "stacked_rawdata.head()"
   ]
  },
  {
   "cell_type": "markdown",
   "id": "flexible-convertible",
   "metadata": {},
   "source": [
    "#### Exporting dataframe as csv"
   ]
  },
  {
   "cell_type": "code",
   "execution_count": null,
   "id": "freelance-personal",
   "metadata": {},
   "outputs": [],
   "source": [
    "stacked_rawdata.to_csv('SP500_2014_2017_stacked.csv')"
   ]
  },
  {
   "cell_type": "markdown",
   "id": "8c750fce",
   "metadata": {},
   "source": [
    "Let's repeat what we just did to create the stock returns data for the latest S&P 500 constituents"
   ]
  },
  {
   "cell_type": "markdown",
   "id": "novel-fluid",
   "metadata": {},
   "source": [
    "### Creating a dataframe of stock returns for the latest S&P 500 constituents\n",
    "The list of constituents for the latest S&P500 are available in `list of sp500.xlsx` file. "
   ]
  },
  {
   "cell_type": "code",
   "execution_count": null,
   "id": "american-baker",
   "metadata": {},
   "outputs": [],
   "source": [
    "SP500list = pd.read_excel('list of sp500.xlsx', engine='openpyxl')\n",
    "SP_ticker_2020 = SP500list['Symbol'].tolist()"
   ]
  },
  {
   "cell_type": "markdown",
   "id": "valid-variation",
   "metadata": {},
   "source": [
    "### Obtaining the stock data of latest S&P 500 constituents"
   ]
  },
  {
   "cell_type": "code",
   "execution_count": null,
   "id": "fiscal-columbia",
   "metadata": {},
   "outputs": [],
   "source": [
    "# Using the ticker to obtain stock prices from yfinance\n",
    "rawdata = yf.download(SP_ticker_2020, start=\"2017-12-30\", end=\"2021-05-28\")\n",
    "rawdata.columns = rawdata.columns.set_names(['Value', 'Symbol'])\n",
    "rawdata.head()"
   ]
  },
  {
   "cell_type": "markdown",
   "id": "athletic-brief",
   "metadata": {},
   "source": [
    "#### Deleting the missing values"
   ]
  },
  {
   "cell_type": "code",
   "execution_count": null,
   "id": "chicken-platform",
   "metadata": {},
   "outputs": [],
   "source": [
    "# Inspecting the missing values in terms of rows\n",
    "rawdata['Close'].isna().sum(axis=0).describe()"
   ]
  },
  {
   "cell_type": "code",
   "execution_count": null,
   "id": "smart-cabinet",
   "metadata": {},
   "outputs": [],
   "source": [
    "# Making an list of tuples for tickers that has more than 3 missing values\n",
    "high_missing_ticker = rawdata['Close'].isna().sum(axis=0) > 3\n",
    "high_missing_ticker_list = high_missing_ticker[high_missing_ticker].index.tolist()\n",
    "high_missing_ticker_tuples = list()\n",
    "for i in ['Adj Close', 'Open', 'Close', 'High' ,'Low', 'Volume']:\n",
    "    high_missing_ticker_tuples += list(zip([i]*len(high_missing_ticker_list),high_missing_ticker_list))"
   ]
  },
  {
   "cell_type": "code",
   "execution_count": null,
   "id": "broad-order",
   "metadata": {},
   "outputs": [],
   "source": [
    "# Excluding columns (i.e., tickers) that has more than 3 missing values \n",
    "rawdata = rawdata.drop(high_missing_ticker_tuples, axis = 1)"
   ]
  },
  {
   "cell_type": "code",
   "execution_count": null,
   "id": "speaking-happening",
   "metadata": {},
   "outputs": [],
   "source": [
    "# Finding out the dates that all tickers (columns) have missing values\n",
    "missingdate =rawdata.isna().sum(axis=1) > 0\n",
    "missingdate[missingdate].index"
   ]
  },
  {
   "cell_type": "code",
   "execution_count": null,
   "id": "560d8bbc",
   "metadata": {},
   "outputs": [],
   "source": [
    "# delete the first row if it has missing values\n",
    "if rawdata.iloc[0].isna().sum().any():\n",
    "    rawdata = rawdata.iloc[1:]"
   ]
  },
  {
   "cell_type": "code",
   "execution_count": null,
   "id": "desirable-segment",
   "metadata": {},
   "outputs": [],
   "source": [
    "# other rows with missing values are replaced with the values from the previous date\n",
    "rawdata = rawdata.fillna(method= 'ffill')"
   ]
  },
  {
   "cell_type": "code",
   "execution_count": null,
   "id": "younger-playback",
   "metadata": {},
   "outputs": [],
   "source": [
    "# Double check to see if all the missing values were either removed or replaced\n",
    "(rawdata.isna().sum(axis=None)>0).any()"
   ]
  },
  {
   "cell_type": "markdown",
   "id": "martial-sunrise",
   "metadata": {},
   "source": [
    "#### Calculating the log returns for closing price"
   ]
  },
  {
   "cell_type": "code",
   "execution_count": null,
   "id": "loved-congress",
   "metadata": {},
   "outputs": [],
   "source": [
    "# Getting the log returns from stock prices\n",
    "logret = np.log(rawdata['Close']).diff()\n",
    "logret.columns = pd.MultiIndex.from_product([['logreturn'], logret.columns])\n",
    "# Joining logret and rawdata \n",
    "rawdata = rawdata.join(logret)"
   ]
  },
  {
   "cell_type": "code",
   "execution_count": null,
   "id": "familiar-healthcare",
   "metadata": {},
   "outputs": [],
   "source": [
    "print(\"After preprocessing the data, we have idenified the log returns of {} companies, which were included in S&P500 in 2021. To recap, we are examining the stock returns from 2018 to May 2021. Therefore, we will be examining the stock returns of {} days\".format(len(logret.columns), len(logret)))"
   ]
  },
  {
   "cell_type": "markdown",
   "id": "endless-casting",
   "metadata": {},
   "source": [
    "#### Creating a new columns for the industry information"
   ]
  },
  {
   "cell_type": "code",
   "execution_count": null,
   "id": "quantitative-editor",
   "metadata": {},
   "outputs": [],
   "source": [
    "# Obtaining the information about the tickers that are included in SP_ticker_2017\n",
    "industry_dic = dict()\n",
    "for item in SP_ticker_2020:\n",
    "    try:\n",
    "        industry_dic[item] = yf.Ticker(item).info['industry']\n",
    "    except:\n",
    "        industry_dic[item] = None"
   ]
  },
  {
   "cell_type": "code",
   "execution_count": null,
   "id": "amber-astrology",
   "metadata": {},
   "outputs": [],
   "source": [
    "# Adding the industry to a level of the column\n",
    "rawdata.columns = pd.MultiIndex.from_tuples([(value, industry_dic[ticker], ticker) for value, ticker in rawdata.columns])\n",
    "rawdata.head()"
   ]
  },
  {
   "cell_type": "markdown",
   "id": "buried-skill",
   "metadata": {},
   "source": [
    "#### Creating a new columns for days of the week"
   ]
  },
  {
   "cell_type": "code",
   "execution_count": null,
   "id": "environmental-freeze",
   "metadata": {},
   "outputs": [],
   "source": [
    "# The day of the week is added as a new index (creating a hierarchical index)\n",
    "rawdata['days'] = [calendar.day_name[day.weekday()] for day in rawdata.index]"
   ]
  },
  {
   "cell_type": "markdown",
   "id": "competent-graphics",
   "metadata": {},
   "source": [
    "#### Exporting dataframe as csv"
   ]
  },
  {
   "cell_type": "code",
   "execution_count": null,
   "id": "loaded-weapon",
   "metadata": {},
   "outputs": [],
   "source": [
    "rawdata.to_csv('SP500_2018_2021_multilevel.csv') "
   ]
  },
  {
   "cell_type": "markdown",
   "id": "vietnamese-mercury",
   "metadata": {},
   "source": [
    "#### Staking the Closing and Log returns into one dataframe\n",
    "\n",
    "For convenience in running some of the statistical analyses, the multilevel data of stock values are stacked into a dataframe. "
   ]
  },
  {
   "cell_type": "code",
   "execution_count": null,
   "id": "voluntary-utilization",
   "metadata": {},
   "outputs": [],
   "source": [
    "# To easily stack the data, it is easier to delete the days and industry information.\n",
    "rawdata = rawdata.drop('days', axis =1)\n",
    "rawdata.columns = rawdata.columns.droplevel(1)"
   ]
  },
  {
   "cell_type": "code",
   "execution_count": null,
   "id": "exciting-flood",
   "metadata": {},
   "outputs": [],
   "source": [
    "# The data is stacked \n",
    "stacked_rawdata = rawdata.stack()\n",
    "stacked_rawdata.reset_index(inplace=True)\n",
    "stacked_rawdata = stacked_rawdata.rename(columns = {'level_1':'Ticker'})\n",
    "\n",
    "# Days are added as a new column\n",
    "stacked_rawdata['days'] = [calendar.day_name[day.weekday()] for day in stacked_rawdata['Date']]\n",
    "\n",
    "# Industry information is added as a new column\n",
    "stacked_rawdata['Industry'] = [industry_dic[ticker] for ticker in stacked_rawdata['Ticker']]\n",
    "stacked_rawdata.head()\n",
    "\n",
    "# Before we forget, let's add the days and industry column back to our rawdata. We will comeback to this later\n",
    "rawdata.columns = pd.MultiIndex.from_tuples([(value, industry_dic[ticker], ticker) for value, ticker in rawdata.columns])\n",
    "rawdata['days'] = [calendar.day_name[day.weekday()] for day in rawdata.index]\n"
   ]
  },
  {
   "cell_type": "markdown",
   "id": "surface-delight",
   "metadata": {},
   "source": [
    "#### Exporting dataframe as csv"
   ]
  },
  {
   "cell_type": "code",
   "execution_count": null,
   "id": "vanilla-camcorder",
   "metadata": {},
   "outputs": [],
   "source": [
    "stacked_rawdata.to_csv('SP500_2018_2021_stacked.csv')"
   ]
  },
  {
   "cell_type": "markdown",
   "id": "premium-hammer",
   "metadata": {},
   "source": [
    "### Analyzing the Monday Effect\n",
    "The next step is to analyze the Monday effect. First, as done in Arman and Lestari's research, one-sample t-test is conducted for each day of the week. The test value is 0. Therefore, a significant result indicates that it is highly unlikely to have obtained the average log stock returns on a specific day of the week given that the null hypothesis is true (i.e. the average log stock return is 0)."
   ]
  },
  {
   "cell_type": "markdown",
   "id": "loose-script",
   "metadata": {},
   "source": [
    "##### Descriptive Statistics"
   ]
  },
  {
   "cell_type": "code",
   "execution_count": null,
   "id": "seven-serbia",
   "metadata": {},
   "outputs": [],
   "source": [
    "# Let's examine how many columns we have\n",
    "print('There are {} columns in our dataset'.format(len(rawdata.columns)))\n",
    "# The days of the week is one of the columns\n",
    "print('Is days one of the columns?','days' in rawdata.columns)"
   ]
  },
  {
   "cell_type": "code",
   "execution_count": null,
   "id": "silent-triple",
   "metadata": {},
   "outputs": [],
   "source": [
    "# Before we move on, let's make a multilevel index for the rows.\n",
    "rawdata.set_index('days', append=True, inplace=True)"
   ]
  },
  {
   "cell_type": "code",
   "execution_count": null,
   "id": "hybrid-quilt",
   "metadata": {},
   "outputs": [],
   "source": [
    "# Frequency count for each day\n",
    "rawdata['logreturn'].groupby(level=1).count().mean(axis=1)"
   ]
  },
  {
   "cell_type": "code",
   "execution_count": null,
   "id": "continent-malawi",
   "metadata": {},
   "outputs": [],
   "source": [
    "# Before we get into conducting one sample t-test, \n",
    "# let's look at the mean of log stock returns for each day of the week\n",
    "rawdata['logreturn'].groupby(level=1).mean().mean(axis=1).sort_values()"
   ]
  },
  {
   "cell_type": "code",
   "execution_count": null,
   "id": "blocked-canvas",
   "metadata": {},
   "outputs": [],
   "source": [
    "# Let's look at the standard deviation of log stock returns for each day of the week\n",
    "rawdata['logreturn'].groupby(level=1).std().std(axis=1).sort_values()"
   ]
  },
  {
   "cell_type": "markdown",
   "id": "encouraging-blanket",
   "metadata": {},
   "source": [
    "Although less tha Thursday, Monday has a negative log stock returns and a largest variance. Let's see if this value is statistically significant. "
   ]
  },
  {
   "cell_type": "markdown",
   "id": "wrong-glory",
   "metadata": {},
   "source": [
    "##### Inferential Statistics"
   ]
  },
  {
   "cell_type": "markdown",
   "id": "disturbed-sussex",
   "metadata": {},
   "source": [
    "###### t-test"
   ]
  },
  {
   "cell_type": "code",
   "execution_count": null,
   "id": "hazardous-pound",
   "metadata": {},
   "outputs": [],
   "source": [
    "def one_sample_t(day):\n",
    "    a = rawdata.xs(day, level='days').logreturn.values.flatten()\n",
    "    a = a[~numpy.isnan(a)]\n",
    "    return stats.ttest_1samp(a,0)"
   ]
  },
  {
   "cell_type": "code",
   "execution_count": null,
   "id": "purple-increase",
   "metadata": {},
   "outputs": [],
   "source": [
    "# one-sample t-test for Monday\n",
    "one_sample_t('Monday')"
   ]
  },
  {
   "cell_type": "code",
   "execution_count": null,
   "id": "regulated-shower",
   "metadata": {},
   "outputs": [],
   "source": [
    "# one-sample t-test for Tuesday\n",
    "one_sample_t('Tuesday')"
   ]
  },
  {
   "cell_type": "code",
   "execution_count": null,
   "id": "brazilian-mortgage",
   "metadata": {},
   "outputs": [],
   "source": [
    "# one-sample t-test for Wednesday\n",
    "one_sample_t('Wednesday')"
   ]
  },
  {
   "cell_type": "code",
   "execution_count": null,
   "id": "willing-creature",
   "metadata": {},
   "outputs": [],
   "source": [
    "# one-sample t-test for Thursday\n",
    "one_sample_t('Thursday')"
   ]
  },
  {
   "cell_type": "code",
   "execution_count": null,
   "id": "affiliated-injury",
   "metadata": {},
   "outputs": [],
   "source": [
    "# one-sample t-test for Friday\n",
    "one_sample_t('Friday')"
   ]
  },
  {
   "cell_type": "markdown",
   "id": "wired-louisiana",
   "metadata": {},
   "source": [
    "----------"
   ]
  },
  {
   "cell_type": "markdown",
   "id": "manufactured-buddy",
   "metadata": {},
   "source": [
    "## Tackling Objective 2  <a clas =\"anchor\" id = \"tackling-objective-2\"></a>\n",
    "\n",
    "In this section, we will examine Monday effect in term of its second defintion. We will use the same data that were used in the previous section. \n",
    "\n",
    "Disclaimer: did you know that you can run R codes in a python based jupyter notebook? Well, the environment that this notebook is built on allows for that with the use of [rpy2](https://pypi.org/project/rpy2/) package. We simply use `%%R` in the cell that we want to run R codes. `%%R` is called R magic (and yes, magic indeed). "
   ]
  },
  {
   "cell_type": "markdown",
   "id": "b06605ec",
   "metadata": {},
   "source": [
    "### Setting up R and Importing R libraries"
   ]
  },
  {
   "cell_type": "code",
   "execution_count": 1,
   "id": "seven-chosen",
   "metadata": {},
   "outputs": [
    {
     "name": "stderr",
     "output_type": "stream",
     "text": [
      "C:\\Users\\SungbinYouk-PC\\miniconda3\\envs\\stockproject\\lib\\site-packages\\rpy2\\robjects\\packages.py:366: UserWarning: The symbol 'quartz' is not in this R namespace/package.\n",
      "  warnings.warn(\n"
     ]
    }
   ],
   "source": [
    "#Let's import rpy2\n",
    "import rpy2\n",
    "#The following code enables you to use R magic\n",
    "%load_ext rpy2.ipython"
   ]
  },
  {
   "cell_type": "code",
   "execution_count": 2,
   "id": "stunning-graphic",
   "metadata": {},
   "outputs": [
    {
     "name": "stderr",
     "output_type": "stream",
     "text": [
      "R[write to console]: Installing package into 'C:/Users/SungbinYouk-PC/Documents/R/win-library/4.0'\n",
      "(as 'lib' is unspecified)\n",
      "\n"
     ]
    },
    {
     "name": "stdout",
     "output_type": "stream",
     "text": [
      "--- Please select a CRAN mirror for use in this session ---\n"
     ]
    },
    {
     "name": "stderr",
     "output_type": "stream",
     "text": [
      "R[write to console]: trying URL 'https://repo.miserver.it.umich.edu/cran/bin/windows/contrib/4.0/pacman_0.5.1.zip'\n",
      "\n",
      "R[write to console]: Content type 'application/octet-stream'\n",
      "R[write to console]:  length 389623 bytes (380 KB)\n",
      "\n",
      "R[write to console]: downloaded 380 KB\n",
      "\n",
      "\n"
     ]
    },
    {
     "name": "stdout",
     "output_type": "stream",
     "text": [
      "package 'pacman' successfully unpacked and MD5 sums checked\n",
      "\n",
      "The downloaded binary packages are in\n",
      "\tC:\\Users\\SungbinYouk-PC\\AppData\\Local\\Temp\\RtmpqUHg86\\downloaded_packages\n"
     ]
    }
   ],
   "source": [
    "%%R\n",
    "#Let's load the R packages that we will use, we will use `pacman` library to help us load all other libraries \n",
    "install.packages(\"pacman\")\n",
    "library(pacman)\n",
    "p_load(dplyr, plyr, readr, tidyr, reshape, ggplot2, sjPlot)"
   ]
  },
  {
   "cell_type": "markdown",
   "id": "33c12ad4",
   "metadata": {},
   "source": [
    "### Importing the data for S&P 500 constituents in 2017"
   ]
  },
  {
   "cell_type": "code",
   "execution_count": null,
   "id": "672d6d15",
   "metadata": {},
   "outputs": [],
   "source": [
    "%%R\n",
    "#Let's read in the .csv file of the stock returns for S&P 500 constituents in 2017\n",
    "SP500_2014_2017_stacked <- read_csv(\"SP500_2014_2017_stacked.csv\")\n",
    "\n",
    "#We will sort the dataset by company (i.e. tickers)\n",
    "all_data <- SP500_2014_2017_stacked[order(SP500_2014_2017_stacked$Ticker),]\n",
    "\n",
    "#The numeric date will be used as an index to pair log returns of two consecutive days\n",
    "Date_num = as.numeric(all_data$Date)\n",
    "all_data[\"Date_num\"]=Date_num \n",
    "\n",
    "#Before we move on, let's clean the data by removing the date variable\n",
    "all_data_no_date = subset(all_data, select = -Date)\n",
    "\n",
    "# Let's generate a list of unique companies (i.e. unique tickers)\n",
    "Ticker_list = unique(all_data_no_date$Ticker)"
   ]
  },
  {
   "cell_type": "markdown",
   "id": "087e812c",
   "metadata": {},
   "source": [
    "### Seperating the dataset based on the days of the week"
   ]
  },
  {
   "cell_type": "code",
   "execution_count": null,
   "id": "812f16ce",
   "metadata": {},
   "outputs": [],
   "source": [
    "%%R\n",
    "#We wil now make pairs of og-return for two consecutive days\n",
    "Monday = Tuesday = Wednesday = Thursday = Friday = Next_Monday = {}\n",
    "\n",
    "for (ticker in Ticker_list){\n",
    "  Company_temp = {}\n",
    "  Monday_temp = {}\n",
    "  # Let's take one company at a time\n",
    "  Company_temp = filter(all_data_no_date,Ticker == ticker)\n",
    "  # We will use Monday as the benchmark for finding pairs\n",
    "  Monday_temp = filter(Company_temp,days == \"Monday\")\n",
    "  Monday = rbind(Monday, Monday_temp)\n",
    "  \n",
    "  for (date in Monday_temp$Date_num){\n",
    "    #Friday is 4 days after Monday\n",
    "    Friday_temp =  subset(Company_temp, Date_num == (date+4))\n",
    "    #If there is no data for the following Friday, set as NA\n",
    "    if(dim(Friday_temp)[1] == 0){Friday_temp = NA}\n",
    "    Friday = rbind(Friday,Friday_temp)\n",
    "    #We will repeat this for all other days of the week\n",
    "    Thursday_temp = subset(Company_temp, Date_num == (date+3))\n",
    "    if(dim(Thursday_temp)[1] == 0){Thursday_temp = NA}\n",
    "    Thursday = rbind(Thursday,Thursday_temp)\n",
    "    \n",
    "    Wednesday_temp = subset(Company_temp, Date_num == (date+2))\n",
    "    if(dim(Wednesday_temp)[1] == 0){Wednesday_temp = NA}\n",
    "    Wednesday = rbind(Wednesday,Wednesday_temp)\n",
    "    \n",
    "    Tuesday_temp = subset(Company_temp, Date_num == (date+1))\n",
    "    if(dim(Tuesday_temp)[1] == 0){Tuesday_temp = NA}\n",
    "    Tuesday = rbind(Tuesday,Tuesday_temp)\n",
    "    \n",
    "    Next_Monday_temp = subset(Company_temp, Date_num == (date+7))\n",
    "    if(dim(Next_Monday_temp)[1] == 0){Next_Monday_temp = NA}\n",
    "    Next_Monday = rbind(Next_Monday,Next_Monday_temp)\n",
    "  }\n",
    "}\n",
    "\n",
    "#Let's save the data sets for each days of the week to .csv files\n",
    "write.csv(Monday,\"Monday.csv\", row.names = FALSE)\n",
    "write.csv(Tuesday,\"Tuesday.csv\", row.names = FALSE)\n",
    "write.csv(Wednesday,\"Wednesday.csv\", row.names = FALSE)\n",
    "write.csv(Thursday,\"Thursday.csv\", row.names = FALSE)\n",
    "write.csv(Friday,\"Friday.csv\", row.names = FALSE)\n",
    "write.csv(Next_Monday,\"Next_Monday.csv\", row.names = FALSE)"
   ]
  },
  {
   "cell_type": "markdown",
   "id": "11f1a400",
   "metadata": {},
   "source": [
    "### Reading in the datasets for each days of the week"
   ]
  },
  {
   "cell_type": "code",
   "execution_count": 3,
   "id": "b0ff4c54",
   "metadata": {},
   "outputs": [
    {
     "name": "stdout",
     "output_type": "stream",
     "text": [
      "\n",
      "\u001b[36m--\u001b[39m \u001b[1m\u001b[1mColumn specification\u001b[1m\u001b[22m \u001b[36m-------------------------------------------------------------------------------------------------------------------------------------\u001b[39m\n",
      "cols(\n",
      "  X1 = \u001b[32mcol_double()\u001b[39m,\n",
      "  Ticker = \u001b[31mcol_character()\u001b[39m,\n",
      "  `Adj Close` = \u001b[32mcol_double()\u001b[39m,\n",
      "  Close = \u001b[32mcol_double()\u001b[39m,\n",
      "  High = \u001b[32mcol_double()\u001b[39m,\n",
      "  Low = \u001b[32mcol_double()\u001b[39m,\n",
      "  Open = \u001b[32mcol_double()\u001b[39m,\n",
      "  Volume = \u001b[32mcol_double()\u001b[39m,\n",
      "  logreturn = \u001b[32mcol_double()\u001b[39m,\n",
      "  days = \u001b[31mcol_character()\u001b[39m,\n",
      "  Industry = \u001b[31mcol_character()\u001b[39m,\n",
      "  Date_num = \u001b[32mcol_double()\u001b[39m\n",
      ")\n",
      "\n",
      "\n",
      "\u001b[36m--\u001b[39m \u001b[1m\u001b[1mColumn specification\u001b[1m\u001b[22m \u001b[36m-------------------------------------------------------------------------------------------------------------------------------------\u001b[39m\n",
      "cols(\n",
      "  X1 = \u001b[32mcol_double()\u001b[39m,\n",
      "  Ticker = \u001b[31mcol_character()\u001b[39m,\n",
      "  `Adj Close` = \u001b[32mcol_double()\u001b[39m,\n",
      "  Close = \u001b[32mcol_double()\u001b[39m,\n",
      "  High = \u001b[32mcol_double()\u001b[39m,\n",
      "  Low = \u001b[32mcol_double()\u001b[39m,\n",
      "  Open = \u001b[32mcol_double()\u001b[39m,\n",
      "  Volume = \u001b[32mcol_double()\u001b[39m,\n",
      "  logreturn = \u001b[32mcol_double()\u001b[39m,\n",
      "  days = \u001b[31mcol_character()\u001b[39m,\n",
      "  Industry = \u001b[31mcol_character()\u001b[39m,\n",
      "  Date_num = \u001b[32mcol_double()\u001b[39m\n",
      ")\n",
      "\n",
      "\n",
      "\u001b[36m--\u001b[39m \u001b[1m\u001b[1mColumn specification\u001b[1m\u001b[22m \u001b[36m-------------------------------------------------------------------------------------------------------------------------------------\u001b[39m\n",
      "cols(\n",
      "  X1 = \u001b[32mcol_double()\u001b[39m,\n",
      "  Ticker = \u001b[31mcol_character()\u001b[39m,\n",
      "  `Adj Close` = \u001b[32mcol_double()\u001b[39m,\n",
      "  Close = \u001b[32mcol_double()\u001b[39m,\n",
      "  High = \u001b[32mcol_double()\u001b[39m,\n",
      "  Low = \u001b[32mcol_double()\u001b[39m,\n",
      "  Open = \u001b[32mcol_double()\u001b[39m,\n",
      "  Volume = \u001b[32mcol_double()\u001b[39m,\n",
      "  logreturn = \u001b[32mcol_double()\u001b[39m,\n",
      "  days = \u001b[31mcol_character()\u001b[39m,\n",
      "  Industry = \u001b[31mcol_character()\u001b[39m,\n",
      "  Date_num = \u001b[32mcol_double()\u001b[39m\n",
      ")\n",
      "\n",
      "\n",
      "\u001b[36m--\u001b[39m \u001b[1m\u001b[1mColumn specification\u001b[1m\u001b[22m \u001b[36m-------------------------------------------------------------------------------------------------------------------------------------\u001b[39m\n",
      "cols(\n",
      "  X1 = \u001b[32mcol_double()\u001b[39m,\n",
      "  Ticker = \u001b[31mcol_character()\u001b[39m,\n",
      "  `Adj Close` = \u001b[32mcol_double()\u001b[39m,\n",
      "  Close = \u001b[32mcol_double()\u001b[39m,\n",
      "  High = \u001b[32mcol_double()\u001b[39m,\n",
      "  Low = \u001b[32mcol_double()\u001b[39m,\n",
      "  Open = \u001b[32mcol_double()\u001b[39m,\n",
      "  Volume = \u001b[32mcol_double()\u001b[39m,\n",
      "  logreturn = \u001b[32mcol_double()\u001b[39m,\n",
      "  days = \u001b[31mcol_character()\u001b[39m,\n",
      "  Industry = \u001b[31mcol_character()\u001b[39m,\n",
      "  Date_num = \u001b[32mcol_double()\u001b[39m\n",
      ")\n",
      "\n",
      "\n",
      "\u001b[36m--\u001b[39m \u001b[1m\u001b[1mColumn specification\u001b[1m\u001b[22m \u001b[36m-------------------------------------------------------------------------------------------------------------------------------------\u001b[39m\n",
      "cols(\n",
      "  X1 = \u001b[32mcol_double()\u001b[39m,\n",
      "  Ticker = \u001b[31mcol_character()\u001b[39m,\n",
      "  `Adj Close` = \u001b[32mcol_double()\u001b[39m,\n",
      "  Close = \u001b[32mcol_double()\u001b[39m,\n",
      "  High = \u001b[32mcol_double()\u001b[39m,\n",
      "  Low = \u001b[32mcol_double()\u001b[39m,\n",
      "  Open = \u001b[32mcol_double()\u001b[39m,\n",
      "  Volume = \u001b[32mcol_double()\u001b[39m,\n",
      "  logreturn = \u001b[32mcol_double()\u001b[39m,\n",
      "  days = \u001b[31mcol_character()\u001b[39m,\n",
      "  Industry = \u001b[31mcol_character()\u001b[39m,\n",
      "  Date_num = \u001b[32mcol_double()\u001b[39m\n",
      ")\n",
      "\n",
      "\n",
      "\u001b[36m--\u001b[39m \u001b[1m\u001b[1mColumn specification\u001b[1m\u001b[22m \u001b[36m-------------------------------------------------------------------------------------------------------------------------------------\u001b[39m\n",
      "cols(\n",
      "  X1 = \u001b[32mcol_double()\u001b[39m,\n",
      "  Ticker = \u001b[31mcol_character()\u001b[39m,\n",
      "  `Adj Close` = \u001b[32mcol_double()\u001b[39m,\n",
      "  Close = \u001b[32mcol_double()\u001b[39m,\n",
      "  High = \u001b[32mcol_double()\u001b[39m,\n",
      "  Low = \u001b[32mcol_double()\u001b[39m,\n",
      "  Open = \u001b[32mcol_double()\u001b[39m,\n",
      "  Volume = \u001b[32mcol_double()\u001b[39m,\n",
      "  logreturn = \u001b[32mcol_double()\u001b[39m,\n",
      "  days = \u001b[31mcol_character()\u001b[39m,\n",
      "  Industry = \u001b[31mcol_character()\u001b[39m,\n",
      "  Date_num = \u001b[32mcol_double()\u001b[39m\n",
      ")\n",
      "\n"
     ]
    }
   ],
   "source": [
    "%%R\n",
    "#\n",
    "Monday = read_csv(\"Monday.csv\")\n",
    "Tuesday = read_csv(\"Tuesday.csv\")\n",
    "Wednesday = read_csv(\"Wednesday.csv\")\n",
    "Thursday = read_csv(\"Thursday.csv\")\n",
    "Friday = read_csv(\"Friday.csv\")\n",
    "Next_Monday = read_csv(\"Next_Monday.csv\")\n",
    "\n",
    "Monday['Index']= 1:nrow(Monday)\n",
    "Tuesday['Index']= 1:nrow(Tuesday)\n",
    "Wednesday['Index']= 1:nrow(Wednesday)\n",
    "Thursday['Index']= 1:nrow(Thursday)\n",
    "Friday['Index']= 1:nrow(Friday)\n",
    "Next_Monday['Index']= 1:nrow(Next_Monday)"
   ]
  },
  {
   "cell_type": "code",
   "execution_count": 4,
   "id": "1b8db99d",
   "metadata": {},
   "outputs": [
    {
     "data": {
      "image/png": "[encoded data removed]"
     },
     "metadata": {},
     "output_type": "display_data"
    }
   ],
   "source": [
    "%%R\n",
    "#histogram of log-return on each day\n",
    "par(mfrow=c(1,5))\n",
    "hist(Monday$logreturn,xlim = c(-0.12,0.12),breaks = 40, main = \"Monday\", xlab = 'log returns')\n",
    "hist(Tuesday$logreturn,xlim = c(-0.12,0.12),breaks = 40, main = \"Tuesday\", xlab = 'log returns')\n",
    "hist(Wednesday$logreturn,xlim = c(-0.12,0.12),breaks = 40, main = \"Wednesday\", xlab = 'log returns')\n",
    "hist(Thursday$logreturn,xlim = c(-0.12,0.12),breaks = 40, main = \"Thursday\", xlab = 'log returns')\n",
    "hist(Friday$logreturn,xlim = c(-0.12,0.12),breaks = 40, main = \"Friday\", xlab = 'log returns')"
   ]
  },
  {
   "cell_type": "markdown",
   "id": "c9e46634",
   "metadata": {},
   "source": [
    "The histograms illustrate the frequency distribution of the log returns for each days of the week. Does this sound familiar? Yes, this is related to the first definition of Monday returns. By looking at the distribution, the log returns are close to zero for all days of the week. In fact, the number of days in which the log returns are slighly above zero is higher than thos slighly less than zero for all days of the week. Therefore, Monday effect in term of its first definition seems less promising. However, this section is related to the second definition of Monday effect. So, let's dive into examining the relationship between two consecutive days of the week. We will examine the linear regression on the pairs of consecutive days of the week.  "
   ]
  },
  {
   "cell_type": "markdown",
   "id": "cd8f5640",
   "metadata": {},
   "source": [
    "### Examining the relationship between the pairs of consecutive days of the week"
   ]
  },
  {
   "cell_type": "code",
   "execution_count": 7,
   "id": "000aa832",
   "metadata": {},
   "outputs": [],
   "source": [
    "%%R\n",
    "# Let's look at the relationship between the log returns for pairs of consecutive days. A linear model is fit to the data.\n",
    "fit_F_M = lm(Friday$logreturn~Next_Monday$logreturn)\n",
    "fit_M_Tu = lm(Monday$logreturn~Tuesday$logreturn)\n",
    "fit_Tu_W = lm(Tuesday$logreturn~Wednesday$logreturn)\n",
    "fit_W_Th = lm(Wednesday$logreturn~Thursday$logreturn)\n",
    "fit_Th_F = lm(Thursday$logreturn~Friday$logreturn)\n",
    "tab_model(fit_F_M, fit_M_Tu, fit_Tu_W, fit_W_Th,fit_Th_F)"
   ]
  },
  {
   "cell_type": "code",
   "execution_count": 62,
   "id": "a2d67ff6",
   "metadata": {},
   "outputs": [
    {
     "data": {
      "image/png": "[encoded data removed]"
     },
     "metadata": {},
     "output_type": "display_data"
    }
   ],
   "source": [
    "%%R\n",
    "# Let's visualize our data. We will draw a scatter plot and the linear regression. \n",
    "layout(matrix(c(1,2,3,4,5,6), nrow = 3, ncol = 2, byrow = TRUE))\n",
    "plot(Friday$logreturn,Next_Monday$logreturn,\n",
    "    xlab = \"Friday\", ylab = \"Monday\")\n",
    "abline(fit_F_M)\n",
    "plot(Monday$logreturn,Tuesday$logreturn,\n",
    "    xlab = \"Monday\", ylab = \"Tuesday\")\n",
    "abline(fit_M_Tu)\n",
    "plot(Tuesday$logreturn,Wednesday$logreturn,\n",
    "    xlab = \"Tuesday\", ylab = \"Wednesday\")\n",
    "abline(fit_Tu_W)\n",
    "plot(Wednesday$logreturn,Thursday$logreturn,\n",
    "    xlab = \"Wednesday\", ylab = \"Thursday\")\n",
    "abline(fit_W_Th)\n",
    "plot(Thursday$logreturn,Friday$logreturn,\n",
    "    xlab = \"Thursday\", ylab = \"Friday\")\n",
    "abline(fit_Th_F)\n",
    "mtext(\"Linear relationship between two consecutive days\", outer = TRUE, cex = 1.5)"
   ]
  },
  {
   "cell_type": "markdown",
   "id": "adfe3b96",
   "metadata": {},
   "source": [
    "There is a statistically significant relationship between all pairs of consecutive log returns. With this large of a sample size, a small relationship between the two values will be significant. Therefore, it is not encouraged to take the significance at the face value. We need to also consider the magnitude of the significance. The $R^2$ value indicates that around 0.8% of the variance in Monday returns are explained with the Friday returns. The $R^2$ for these two consecutive days are larger than all other pairs. "
   ]
  },
  {
   "cell_type": "code",
   "execution_count": 65,
   "id": "26d4cbcd",
   "metadata": {},
   "outputs": [],
   "source": [
    "%%R\n",
    "# We will record the R-squared value and beta coefficents of this linear regression. This will be used later on to compare it to other days of the week.\n",
    "fit_F_M_R2 = summary(fit_F_M)$r.squared\n",
    "fit_M_Tu_R2 = summary(fit_M_Tu)$r.squared\n",
    "fit_Tu_W_R2 = summary(fit_Tu_W)$r.squared\n",
    "fit_W_Th_R2 = summary(fit_W_Th)$r.squared\n",
    "fit_Th_F_R2 = summary(fit_Th_F)$r.squared\n",
    "fit_F_M_Beta = fit_F_M$coef[2]\n",
    "fit_M_Tu_Beta = fit_M_Tu$coef[2]\n",
    "fit_Tu_W_Beta = fit_Tu_W$coef[2]\n",
    "fit_W_Th_Beta = fit_W_Th$coef[2]\n",
    "fit_Th_F_Beta = fit_Th_F$coef[2]\n",
    "# Let's create a series that has R-squared values of linear models using all industries on each pair of days\n",
    "r_before = c(fit_F_M_R2,fit_M_Tu_R2,fit_Tu_W_R2,fit_W_Th_R2,fit_Th_F_R2)\n",
    "beta_before = c(fit_F_M_Beta, fit_M_Tu_Beta,fit_Tu_W_Beta, fit_W_Th_Beta, fit_Th_F_Beta)"
   ]
  },
  {
   "cell_type": "markdown",
   "id": "0512e61f",
   "metadata": {},
   "source": [
    "### Examining the relationship between the pairs of consecutive days of the week for different industries\n",
    "\n",
    "We just looked at the linear relationship between the pairs of consecutive days of the week across all S&P 500 constituents. However, it is possible for Monday effect to vary based on industries. In this sections, we will take a step further in examining Monday effect (don't forget that we are focusing on the second definition here) by analyzing how many industries show a significant relationship between consecutive days of the week.  "
   ]
  },
  {
   "cell_type": "code",
   "execution_count": 35,
   "id": "fe5f7bb8",
   "metadata": {},
   "outputs": [
    {
     "name": "stdout",
     "output_type": "stream",
     "text": [
      "                                                        Monday & Friday\n",
      "Proportion of industries with significant relationships           0.375\n",
      "                                                        Friday & Thursday\n",
      "Proportion of industries with significant relationships             0.203\n",
      "                                                        Thursday & Wednesday\n",
      "Proportion of industries with significant relationships                0.181\n",
      "                                                        Wednesday & Tuesday\n",
      "Proportion of industries with significant relationships               0.319\n",
      "                                                        Tuesday & Monday\n",
      "Proportion of industries with significant relationships            0.267\n"
     ]
    }
   ],
   "source": [
    "%%R\n",
    "# To make things easier, we will create a function that will run linear models for each groups. In our case, the groups are the industries.\n",
    "lm_by_group <- function(z) {\n",
    "   model.fit <- data.frame(coef(summary(lm(y~x,data=z))))\n",
    "   # The first row is the intercept and the second row is the slope\n",
    "   model.fit$predictor <- rownames(model.fit)\n",
    "   model.fit\n",
    "}\n",
    "\n",
    "# Let's create a linear model between Friday and the following Monday for each industry\n",
    "lm_by_industry_M_F <- data.frame(group=Next_Monday$Industry,y=Next_Monday$logreturn,x=Friday$logreturn)\n",
    "lm_by_industry_M_F = lm_by_industry_M_F %>% drop_na()\n",
    "models_M_F <- ddply(lm_by_industry_M_F,\"group\",lm_by_group)\n",
    "\n",
    "\n",
    "# Let's filter out the industries that do not have significant linear relationship\n",
    "models_M_F_sig = filter(models_M_F, Pr...t.. <0.05)\n",
    "industry_M_F_sig = unique(models_M_F_sig$group)\n",
    "\n",
    "# Let's calculate the proportion of industries that showed a significant linear relatioship between Monday and Friday's log returns\n",
    "M_F = sum(models_M_F$Pr...t..<0.05)/nrow(models_M_F)\n",
    "\n",
    "# We will repeat what we did above for rest of the pairs of consecutive days\n",
    "lm_by_industry_F_Th <- data.frame(group=Friday$Industry,y=Friday$logreturn,x=Thursday$logreturn)\n",
    "lm_by_industry_F_Th = lm_by_industry_F_Th %>% drop_na()\n",
    "models_F_Th <- ddply(lm_by_industry_F_Th,\"group\",lm_by_group)\n",
    "F_Th = sum(models_F_Th$Pr...t..<0.05)/nrow(models_F_Th)\n",
    "models_F_Th_sig = filter(models_F_Th, Pr...t.. <0.05)\n",
    "industry_F_Th_sig = unique(models_F_Th_sig$group)\n",
    "\n",
    "\n",
    "lm_by_industry_Th_W <- data.frame(group=Thursday$Industry,y=Thursday$logreturn,x=Wednesday$logreturn)\n",
    "lm_by_industry_Th_W = lm_by_industry_Th_W %>% drop_na()\n",
    "models_Th_W <- ddply(lm_by_industry_Th_W,\"group\",lm_by_group)\n",
    "Th_W = sum(models_Th_W$Pr...t..<0.05)/nrow(models_Th_W)\n",
    "models_Th_W_sig = filter(models_Th_W, Pr...t.. <0.05)\n",
    "industry_Th_W_sig = unique(models_Th_W_sig$group)\n",
    "\n",
    "\n",
    "lm_by_industry_W_Tu <- data.frame(group=Wednesday$Industry,y=Wednesday$logreturn,x=Tuesday$logreturn)\n",
    "lm_by_industry_W_Tu = lm_by_industry_W_Tu %>% drop_na()\n",
    "models_W_Tu <- ddply(lm_by_industry_W_Tu,\"group\",lm_by_group)\n",
    "W_Tu = sum(models_W_Tu$Pr...t..<0.05)/nrow(models_W_Tu)\n",
    "models_W_Tu_sig = filter(models_W_Tu, Pr...t.. <0.05)\n",
    "industry_W_Tu_sig = unique(models_W_Tu_sig$group)\n",
    "\n",
    "\n",
    "lm_by_industry_Tu_M <- data.frame(group=Tuesday$Industry,y=Tuesday$logreturn,x=Monday$logreturn)\n",
    "lm_by_industry_Tu_M = lm_by_industry_Tu_M %>% drop_na()\n",
    "models_Tu_M <- ddply(lm_by_industry_Tu_M,\"group\",lm_by_group)\n",
    "Tu_M = sum(models_Tu_M$Pr...t..<0.05)/nrow(models_Tu_M)\n",
    "models_Tu_M_sig = filter(models_Tu_M, Pr...t.. <0.05)\n",
    "industry_Tu_M_sig = unique(models_Tu_M_sig$group)\n",
    "\n",
    "#Let's compare the proportion of industries that showed signicant linear relationship between the consecutive day pairs\n",
    "sig_est_perc = data.frame(M_F,F_Th,Th_W,W_Tu,Tu_M)\n",
    "colnames(sig_est_perc) <- c(\"Monday & Friday\",\"Friday & Thursday\", \"Thursday & Wednesday\", \"Wednesday & Tuesday\", \"Tuesday & Monday\")\n",
    "print(round(sig_est_perc,3), row.names = \"Proportion of industries with significant relationships\")"
   ]
  },
  {
   "cell_type": "markdown",
   "id": "fe538c74",
   "metadata": {},
   "source": [
    "Compared to other pairs of consecutive days, Monday and Friday pair had the largest proportion (37.5%) of industries that had signiciant linear relationship between the log returns. This is twice as large as the proportion of industries for Thursday and Wednesday pair (18.1%). We just looked at the proprotion of the signiciant industries. To closely scrutinize Monday effect, we will investigate the $R^2$ and $\\beta$ coefficients. This will provide how much of the variance of the log returns for a given day is explained with that of the previous day and also the strength as well as the direction of the effect."
   ]
  },
  {
   "cell_type": "code",
   "execution_count": 60,
   "id": "94c42882",
   "metadata": {},
   "outputs": [],
   "source": [
    "%%R\n",
    "# Let's select the subset of the data which includes the industries that had signicant relatinoship bewteen the Monday and Friday log returns \n",
    "Monday_Friday_M = subset(Next_Monday,Industry %in% industry_M_F_sig)\n",
    "Monday_Friday_F = subset(Friday,Index %in% Monday_Friday_M$Index)\n",
    "\n",
    "# Let's run the linear model again\n",
    "fit_F_M_sig = lm(Monday_Friday_F$logreturn~Monday_Friday_M$logreturn)\n",
    "\n",
    "# We will repeat these two steps for the rest of the pairs\n",
    "Monday_Tuesday_M = subset(Monday,Industry %in% industry_Tu_M_sig)\n",
    "Monday_Tuesday_Tu = subset(Tuesday,Index %in% Monday_Tuesday_M$Index)\n",
    "fit_M_Tu_sig = lm(Monday_Tuesday_M$logreturn~Monday_Tuesday_Tu$logreturn)\n",
    "\n",
    "\n",
    "Tuesday_Wednesday_Tu = subset(Tuesday,Industry %in% industry_W_Tu_sig)\n",
    "Tuesday_Wednesday_W = subset(Wednesday,Index %in% Tuesday_Wednesday_Tu$Index)\n",
    "fit_Tu_W_sig = lm(Tuesday_Wednesday_Tu$logreturn~Tuesday_Wednesday_W$logreturn)\n",
    "\n",
    "Wednesday_Thursday_W = subset(Wednesday,Industry %in% industry_Th_W_sig)\n",
    "Wednesday_Thursday_Th = subset(Thursday,Index %in% Wednesday_Thursday_W$Index)\n",
    "fit_W_Th_sig = lm(Wednesday_Thursday_W$logreturn~Wednesday_Thursday_Th$logreturn)\n",
    "\n",
    "Thursday_Friday_Th = subset(Thursday,Industry %in% industry_F_Th_sig)\n",
    "Thursday_Friday_F = subset(Friday,Index %in% Thursday_Friday_Th$Index)\n",
    "fit_Th_F_sig = lm(Thursday_Friday_Th$logreturn~Thursday_Friday_F$logreturn)\n",
    "\n",
    "# Let's look at the relationship between the log returns for pairs of consecutive days for these industries\n",
    "tab_model(fit_F_M_sig, fit_M_Tu_sig, fit_Tu_W_sig, fit_W_Th_sig,fit_Th_F_sig)\n"
   ]
  },
  {
   "cell_type": "code",
   "execution_count": 64,
   "id": "db490b8e",
   "metadata": {},
   "outputs": [
    {
     "data": {
      "image/png": "[encoded data removed]"
     },
     "metadata": {},
     "output_type": "display_data"
    }
   ],
   "source": [
    "%%R\n",
    "# Let's visualize our data. We will draw a scatter plot and the linear regression. \n",
    "layout(matrix(c(1,2,3,4,5,6), nrow = 3, ncol = 2, byrow = TRUE))\n",
    "plot(Monday_Friday_F$logreturn,Monday_Friday_M$logreturn,\n",
    "    xlab = \"Friday\", ylab = \"Monday\")\n",
    "abline(fit_F_M_sig)\n",
    "plot(Monday_Tuesday_M$logreturn,Monday_Tuesday_Tu$logreturn,\n",
    "    xlab = \"Monday\", ylab = \"Tuesday\")\n",
    "abline(fit_M_Tu_sig)\n",
    "plot(Tuesday_Wednesday_Tu$logreturn,Tuesday_Wednesday_W$logreturn,\n",
    "    xlab = \"Tuesday\", ylab = \"Wednesday\")\n",
    "abline(fit_Tu_W_sig)\n",
    "plot(Wednesday_Thursday_W$logreturn,Wednesday_Thursday_Th$logreturn,\n",
    "    xlab = \"Wednesday\", ylab = \"Thursday\")\n",
    "abline(fit_W_Th_sig)\n",
    "plot(Thursday_Friday_Th$logreturn,Thursday_Friday_F$logreturn,\n",
    "    xlab = \"Thursday\", ylab = \"Friday\")\n",
    "abline(fit_Th_F_sig)"
   ]
  },
  {
   "cell_type": "code",
   "execution_count": 69,
   "id": "a13969f4",
   "metadata": {},
   "outputs": [
    {
     "data": {
      "image/png": "[encoded data removed]"
     },
     "metadata": {},
     "output_type": "display_data"
    }
   ],
   "source": [
    "%%R\n",
    "#We will also visualize the R-squared values and the beta coefficients for the pairs for the model that only includes the significant industries\n",
    "\n",
    "#First, we need to save the R-squared values and the beta coefficents.\n",
    "fit_F_M_sig_R2 = summary(fit_F_M_sig)$r.squared\n",
    "fit_M_Tu_sig_R2 = summary(fit_M_Tu_sig)$r.squared\n",
    "fit_Tu_W_sig_R2 = summary(fit_Tu_W_sig)$r.squared\n",
    "fit_W_Th_sig_R2 = summary(fit_W_Th_sig)$r.squared\n",
    "fit_Th_F_sig_R2 = summary(fit_Th_F_sig)$r.squared\n",
    "fit_F_M_sig_Beta = fit_F_M_sig$coef[2]\n",
    "fit_M_Tu_sig_Beta = fit_M_Tu_sig$coef[2]\n",
    "fit_Tu_W_sig_Beta = fit_Tu_W_sig$coef[2]\n",
    "fit_W_Th_sig_Beta = fit_W_Th_sig$coef[2]\n",
    "fit_Th_F_sig_Beta = fit_Th_F_sig$coef[2]\n",
    "\n",
    "# Let's store these values\n",
    "r_sig = c(fit_F_M_sig_R2,fit_M_Tu_sig_R2,fit_Tu_W_sig_R2,fit_W_Th_sig_R2,fit_Th_F_sig_R2)\n",
    "beta_sig = c(fit_F_M_sig_Beta,fit_M_Tu_sig_Beta,fit_Tu_W_sig_Beta,fit_W_Th_sig_Beta,fit_Th_F_sig_Beta)\n",
    "\n",
    "# We will calculate how much the R-squared values and beta coefficients changed when using all the industries and only the significant industries\n",
    "r_improve = (r_sig-r_before)/r_before\n",
    "beta_improve = (beta_sig-beta_before)/beta_before\n",
    "\n",
    "# Let's plot both R-squared values\n",
    "names = c(\"Fri-Mon\",\"Mon-Tue\",\"Tue-Wed\",\"Wed-Thu\",\"Thu-Fri\")\n",
    "r_table =data.frame(names,r_before,r_sig)\n",
    "r_melt <- melt(r_table, id = \"names\")\n",
    "ggplot(data = r_melt) +\n",
    "  geom_line(aes(x = names, y = value, colour = variable, group = variable))+ labs(x = \"Pair of each day\",y = \"R squared value\",title = \"R squared values\")"
   ]
  },
  {
   "cell_type": "code",
   "execution_count": 70,
   "id": "b6a615fb",
   "metadata": {},
   "outputs": [
    {
     "data": {
      "image/png": "[encoded data removed]"
     },
     "metadata": {},
     "output_type": "display_data"
    }
   ],
   "source": [
    "%%R\n",
    "# Let's plot both beta-coefficeitns\n",
    "names = c(\"Fri-Mon\",\"Mon-Tue\",\"Tue-Wed\",\"Wed-Thu\",\"Thu-Fri\")\n",
    "beta_table =data.frame(names,beta_before,beta_sig)\n",
    "beta_melt <- melt(beta_table, id = \"names\")\n",
    "ggplot(data = beta_melt) +\n",
    "  geom_line(aes(x = names, y = value, colour = variable, group = variable))+ labs(x = \"Pair of each day\",y = \"Beta coefficients\",title = \"Beta coeffcients\")"
   ]
  },
  {
   "cell_type": "markdown",
   "id": "6ee46642",
   "metadata": {},
   "source": [
    "From the plot above, all the R squared values are small, indicating that only very little of stock price change can be explained by the previous day's stock price change. However, the Friday-Monday linear relationship has a relatively higher R squared value than other pairs, suggesting that Monday's stock price change tends to be more sensitive to Friday's stock price than any other pairs of consecutive two days.\n",
    "\n",
    "The red line shows the R squared values of linear models done on all industries while the blue line shows the R squared values of linear models done on the industries that has the most significant linear relationships. The list of industries that have the most significant linear relationships is achieved by running linear models by industry and selecting those industries whose p-values are less than 0.05. The two lines has the same pattern: Friday-Monday has the most strongest relationship than any other pairs and the model performance enhanced with selected industries.\n",
    "\n",
    "This observation from the 2014 to 2017 in the US market to some extent validates the second definition of Monday effect. (Need to rerun the codes on the latest dataset.)"
   ]
  }
 ],
 "metadata": {
  "kernelspec": {
   "display_name": "Python 3",
   "language": "python",
   "name": "python3"
  },
  "language_info": {
   "codemirror_mode": {
    "name": "ipython",
    "version": 3
   },
   "file_extension": ".py",
   "mimetype": "text/x-python",
   "name": "python",
   "nbconvert_exporter": "python",
   "pygments_lexer": "ipython3",
   "version": "3.9.4"
  }
 },
 "nbformat": 4,
 "nbformat_minor": 5
}
